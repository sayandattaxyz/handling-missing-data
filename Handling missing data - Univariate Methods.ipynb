{
 "cells": [
  {
   "cell_type": "markdown",
   "id": "9380c0f6",
   "metadata": {},
   "source": [
    "One of the major problem that a Data Analyst/Scientist come accross is handeling missing datas. The main objective of this project is to apply various ways of handling missing data.\n",
    "\n",
    "First we need to know what are the various ways we can handle missing data:\n",
    "1) Complete case analysis: Removing the rows containing the missing value\n",
    "2) Univariate: We apply different methods for numerical and categorical data\n",
    "   2.a) Numerical Data: Mean/Median, Random, End of distribution\n",
    "   2.b) Categorical Data: Mode, Missing\n",
    "3) Multivariate: \n",
    "   3.a) KNN imputer\n",
    "   3.b) Iterative imputer\n",
    "\n",
    "In this project we will focuse mainly on removing rows and univariate methods. We will do a detailed statistical analysis and comparison of all the methods. "
   ]
  },
  {
   "cell_type": "code",
   "execution_count": 1,
   "id": "aa44480f",
   "metadata": {},
   "outputs": [],
   "source": [
    "import pandas as pd\n",
    "import numpy as np\n",
    "import matplotlib.pyplot as plt\n",
    "import seaborn as sns\n",
    "%matplotlib inline"
   ]
  },
  {
   "cell_type": "code",
   "execution_count": 2,
   "id": "a42f5f9f",
   "metadata": {
    "scrolled": true
   },
   "outputs": [
    {
     "data": {
      "text/html": [
       "<div>\n",
       "<style scoped>\n",
       "    .dataframe tbody tr th:only-of-type {\n",
       "        vertical-align: middle;\n",
       "    }\n",
       "\n",
       "    .dataframe tbody tr th {\n",
       "        vertical-align: top;\n",
       "    }\n",
       "\n",
       "    .dataframe thead th {\n",
       "        text-align: right;\n",
       "    }\n",
       "</style>\n",
       "<table border=\"1\" class=\"dataframe\">\n",
       "  <thead>\n",
       "    <tr style=\"text-align: right;\">\n",
       "      <th></th>\n",
       "      <th>Unnamed: 0.2</th>\n",
       "      <th>Unnamed: 0.1</th>\n",
       "      <th>Unnamed: 0</th>\n",
       "      <th>enrollee_id</th>\n",
       "      <th>city</th>\n",
       "      <th>city_development_index</th>\n",
       "      <th>gender</th>\n",
       "      <th>relevent_experience</th>\n",
       "      <th>enrolled_university</th>\n",
       "      <th>education_level</th>\n",
       "      <th>major_discipline</th>\n",
       "      <th>experience</th>\n",
       "      <th>company_size</th>\n",
       "      <th>company_type</th>\n",
       "      <th>training_hours</th>\n",
       "      <th>target</th>\n",
       "    </tr>\n",
       "  </thead>\n",
       "  <tbody>\n",
       "    <tr>\n",
       "      <th>0</th>\n",
       "      <td>0</td>\n",
       "      <td>0</td>\n",
       "      <td>0</td>\n",
       "      <td>8949</td>\n",
       "      <td>city_103</td>\n",
       "      <td>0.920</td>\n",
       "      <td>Male</td>\n",
       "      <td>Has relevent experience</td>\n",
       "      <td>no_enrollment</td>\n",
       "      <td>Graduate</td>\n",
       "      <td>STEM</td>\n",
       "      <td>20.0</td>\n",
       "      <td>NaN</td>\n",
       "      <td>NaN</td>\n",
       "      <td>36.0</td>\n",
       "      <td>1.0</td>\n",
       "    </tr>\n",
       "    <tr>\n",
       "      <th>1</th>\n",
       "      <td>1</td>\n",
       "      <td>1</td>\n",
       "      <td>1</td>\n",
       "      <td>29725</td>\n",
       "      <td>city_40</td>\n",
       "      <td>0.776</td>\n",
       "      <td>Male</td>\n",
       "      <td>No relevent experience</td>\n",
       "      <td>no_enrollment</td>\n",
       "      <td>Graduate</td>\n",
       "      <td>STEM</td>\n",
       "      <td>15.0</td>\n",
       "      <td>50-99</td>\n",
       "      <td>Pvt Ltd</td>\n",
       "      <td>47.0</td>\n",
       "      <td>0.0</td>\n",
       "    </tr>\n",
       "    <tr>\n",
       "      <th>2</th>\n",
       "      <td>2</td>\n",
       "      <td>2</td>\n",
       "      <td>2</td>\n",
       "      <td>11561</td>\n",
       "      <td>city_21</td>\n",
       "      <td>0.624</td>\n",
       "      <td>NaN</td>\n",
       "      <td>No relevent experience</td>\n",
       "      <td>Full time course</td>\n",
       "      <td>Graduate</td>\n",
       "      <td>STEM</td>\n",
       "      <td>5.0</td>\n",
       "      <td>NaN</td>\n",
       "      <td>NaN</td>\n",
       "      <td>83.0</td>\n",
       "      <td>0.0</td>\n",
       "    </tr>\n",
       "    <tr>\n",
       "      <th>3</th>\n",
       "      <td>3</td>\n",
       "      <td>3</td>\n",
       "      <td>3</td>\n",
       "      <td>33241</td>\n",
       "      <td>city_115</td>\n",
       "      <td>0.789</td>\n",
       "      <td>NaN</td>\n",
       "      <td>No relevent experience</td>\n",
       "      <td>NaN</td>\n",
       "      <td>Graduate</td>\n",
       "      <td>Business Degree</td>\n",
       "      <td>0.0</td>\n",
       "      <td>NaN</td>\n",
       "      <td>Pvt Ltd</td>\n",
       "      <td>52.0</td>\n",
       "      <td>1.0</td>\n",
       "    </tr>\n",
       "    <tr>\n",
       "      <th>4</th>\n",
       "      <td>4</td>\n",
       "      <td>4</td>\n",
       "      <td>4</td>\n",
       "      <td>666</td>\n",
       "      <td>city_162</td>\n",
       "      <td>0.767</td>\n",
       "      <td>Male</td>\n",
       "      <td>Has relevent experience</td>\n",
       "      <td>no_enrollment</td>\n",
       "      <td>Masters</td>\n",
       "      <td>STEM</td>\n",
       "      <td>20.0</td>\n",
       "      <td>50-99</td>\n",
       "      <td>Funded Startup</td>\n",
       "      <td>8.0</td>\n",
       "      <td>0.0</td>\n",
       "    </tr>\n",
       "  </tbody>\n",
       "</table>\n",
       "</div>"
      ],
      "text/plain": [
       "   Unnamed: 0.2  Unnamed: 0.1  Unnamed: 0  enrollee_id      city  \\\n",
       "0             0             0           0         8949  city_103   \n",
       "1             1             1           1        29725   city_40   \n",
       "2             2             2           2        11561   city_21   \n",
       "3             3             3           3        33241  city_115   \n",
       "4             4             4           4          666  city_162   \n",
       "\n",
       "   city_development_index gender      relevent_experience enrolled_university  \\\n",
       "0                   0.920   Male  Has relevent experience       no_enrollment   \n",
       "1                   0.776   Male   No relevent experience       no_enrollment   \n",
       "2                   0.624    NaN   No relevent experience    Full time course   \n",
       "3                   0.789    NaN   No relevent experience                 NaN   \n",
       "4                   0.767   Male  Has relevent experience       no_enrollment   \n",
       "\n",
       "  education_level major_discipline  experience company_size    company_type  \\\n",
       "0        Graduate             STEM        20.0          NaN             NaN   \n",
       "1        Graduate             STEM        15.0        50-99         Pvt Ltd   \n",
       "2        Graduate             STEM         5.0          NaN             NaN   \n",
       "3        Graduate  Business Degree         0.0          NaN         Pvt Ltd   \n",
       "4         Masters             STEM        20.0        50-99  Funded Startup   \n",
       "\n",
       "   training_hours  target  \n",
       "0            36.0     1.0  \n",
       "1            47.0     0.0  \n",
       "2            83.0     0.0  \n",
       "3            52.0     1.0  \n",
       "4             8.0     0.0  "
      ]
     },
     "execution_count": 2,
     "metadata": {},
     "output_type": "execute_result"
    }
   ],
   "source": [
    "df=pd.read_csv(\"data-science-job.csv\")\n",
    "df.head()"
   ]
  },
  {
   "cell_type": "code",
   "execution_count": 3,
   "id": "cc3d4cfa",
   "metadata": {},
   "outputs": [],
   "source": [
    "df = df.drop(['Unnamed: 0.2', 'Unnamed: 0.1', 'Unnamed: 0'], axis = 1)"
   ]
  },
  {
   "cell_type": "code",
   "execution_count": 4,
   "id": "3556ce7c",
   "metadata": {
    "scrolled": false
   },
   "outputs": [
    {
     "data": {
      "text/plain": [
       "enrollee_id                0.000000\n",
       "city                       0.000000\n",
       "city_development_index     2.500261\n",
       "gender                    23.530640\n",
       "relevent_experience        0.000000\n",
       "enrolled_university        2.014824\n",
       "education_level            2.401086\n",
       "major_discipline          14.683161\n",
       "experience                 0.339284\n",
       "company_size              30.994885\n",
       "company_type              32.049274\n",
       "training_hours             3.998330\n",
       "target                     0.000000\n",
       "dtype: float64"
      ]
     },
     "execution_count": 4,
     "metadata": {},
     "output_type": "execute_result"
    }
   ],
   "source": [
    "df.isnull().mean()*100"
   ]
  },
  {
   "cell_type": "markdown",
   "id": "d76b6b91",
   "metadata": {},
   "source": [
    "### Complete case analysis:\n",
    "Complete case analysis is a method of handling missing data that involves removing any observations or cases with missing data from the analysis. This can be a useful method for handling missing data when the missing data is minimal and does not significantly affect the results of the analysis."
   ]
  },
  {
   "cell_type": "code",
   "execution_count": 5,
   "id": "7a7a78fa",
   "metadata": {},
   "outputs": [
    {
     "data": {
      "text/plain": [
       "['city_development_index',\n",
       " 'enrolled_university',\n",
       " 'education_level',\n",
       " 'experience',\n",
       " 'training_hours']"
      ]
     },
     "execution_count": 5,
     "metadata": {},
     "output_type": "execute_result"
    }
   ],
   "source": [
    "cca=[]\n",
    "for i in df.columns:\n",
    "    if df[i].isnull().mean()*100<5 and df[i].isnull().mean()*100>0:\n",
    "        cca.append(i)\n",
    "cca"
   ]
  },
  {
   "cell_type": "markdown",
   "id": "d9dce130",
   "metadata": {},
   "source": [
    "In this dataset we have 5 columns which have missing values less than 5%. We can use CCA for these columns. Out of the 5 columns there are 3 numerical columns and 2 categorical columns. "
   ]
  },
  {
   "cell_type": "code",
   "execution_count": 6,
   "id": "919e50f7",
   "metadata": {},
   "outputs": [
    {
     "data": {
      "text/html": [
       "<div>\n",
       "<style scoped>\n",
       "    .dataframe tbody tr th:only-of-type {\n",
       "        vertical-align: middle;\n",
       "    }\n",
       "\n",
       "    .dataframe tbody tr th {\n",
       "        vertical-align: top;\n",
       "    }\n",
       "\n",
       "    .dataframe thead th {\n",
       "        text-align: right;\n",
       "    }\n",
       "</style>\n",
       "<table border=\"1\" class=\"dataframe\">\n",
       "  <thead>\n",
       "    <tr style=\"text-align: right;\">\n",
       "      <th></th>\n",
       "      <th>city_development_index</th>\n",
       "      <th>enrolled_university</th>\n",
       "      <th>education_level</th>\n",
       "      <th>experience</th>\n",
       "      <th>training_hours</th>\n",
       "    </tr>\n",
       "  </thead>\n",
       "  <tbody>\n",
       "    <tr>\n",
       "      <th>15988</th>\n",
       "      <td>0.920</td>\n",
       "      <td>no_enrollment</td>\n",
       "      <td>Graduate</td>\n",
       "      <td>13.0</td>\n",
       "      <td>57.0</td>\n",
       "    </tr>\n",
       "    <tr>\n",
       "      <th>748</th>\n",
       "      <td>0.920</td>\n",
       "      <td>no_enrollment</td>\n",
       "      <td>Graduate</td>\n",
       "      <td>20.0</td>\n",
       "      <td>55.0</td>\n",
       "    </tr>\n",
       "    <tr>\n",
       "      <th>18954</th>\n",
       "      <td>0.910</td>\n",
       "      <td>NaN</td>\n",
       "      <td>Graduate</td>\n",
       "      <td>14.0</td>\n",
       "      <td>80.0</td>\n",
       "    </tr>\n",
       "    <tr>\n",
       "      <th>12940</th>\n",
       "      <td>0.725</td>\n",
       "      <td>Part time course</td>\n",
       "      <td>Masters</td>\n",
       "      <td>6.0</td>\n",
       "      <td>74.0</td>\n",
       "    </tr>\n",
       "    <tr>\n",
       "      <th>4396</th>\n",
       "      <td>0.698</td>\n",
       "      <td>Part time course</td>\n",
       "      <td>High School</td>\n",
       "      <td>2.0</td>\n",
       "      <td>47.0</td>\n",
       "    </tr>\n",
       "  </tbody>\n",
       "</table>\n",
       "</div>"
      ],
      "text/plain": [
       "       city_development_index enrolled_university education_level  experience  \\\n",
       "15988                   0.920       no_enrollment        Graduate        13.0   \n",
       "748                     0.920       no_enrollment        Graduate        20.0   \n",
       "18954                   0.910                 NaN        Graduate        14.0   \n",
       "12940                   0.725    Part time course         Masters         6.0   \n",
       "4396                    0.698    Part time course     High School         2.0   \n",
       "\n",
       "       training_hours  \n",
       "15988            57.0  \n",
       "748              55.0  \n",
       "18954            80.0  \n",
       "12940            74.0  \n",
       "4396             47.0  "
      ]
     },
     "execution_count": 6,
     "metadata": {},
     "output_type": "execute_result"
    }
   ],
   "source": [
    "df[cca].sample(5)"
   ]
  },
  {
   "cell_type": "code",
   "execution_count": 7,
   "id": "c9e131a7",
   "metadata": {},
   "outputs": [
    {
     "data": {
      "text/plain": [
       "0.8968577095730244"
      ]
     },
     "execution_count": 7,
     "metadata": {},
     "output_type": "execute_result"
    }
   ],
   "source": [
    "#how much data will be left after after dropping the column\n",
    "len(df[cca].dropna())/len(df)"
   ]
  },
  {
   "cell_type": "code",
   "execution_count": 8,
   "id": "511e5815",
   "metadata": {},
   "outputs": [
    {
     "data": {
      "text/plain": [
       "((19158, 13), (17182, 5))"
      ]
     },
     "execution_count": 8,
     "metadata": {},
     "output_type": "execute_result"
    }
   ],
   "source": [
    "df_new=df[cca].dropna()\n",
    "\n",
    "#how many columns we have now\n",
    "df.shape, df_new.shape"
   ]
  },
  {
   "cell_type": "markdown",
   "id": "7b86e988",
   "metadata": {},
   "source": [
    "Lets first visualise the distribution of the 3 numerical columns before dropping the rows with missing data."
   ]
  },
  {
   "cell_type": "code",
   "execution_count": 9,
   "id": "cb01720c",
   "metadata": {},
   "outputs": [
    {
     "data": {
      "text/plain": [
       "array([[<AxesSubplot:title={'center':'city_development_index'}>,\n",
       "        <AxesSubplot:title={'center':'experience'}>],\n",
       "       [<AxesSubplot:title={'center':'training_hours'}>, <AxesSubplot:>]],\n",
       "      dtype=object)"
      ]
     },
     "execution_count": 9,
     "metadata": {},
     "output_type": "execute_result"
    },
    {
     "data": {
      "image/png": "[encoded data removed]",
      "text/plain": [
       "<Figure size 864x864 with 4 Axes>"
      ]
     },
     "metadata": {
      "needs_background": "light"
     },
     "output_type": "display_data"
    }
   ],
   "source": [
    "#plotting histogram for the actual dataset\n",
    "df[cca].hist(bins=50, density=True, figsize=(12, 12))"
   ]
  },
  {
   "cell_type": "markdown",
   "id": "01ed91a4",
   "metadata": {},
   "source": [
    "Now lets visualise the distribution after dropping the null values"
   ]
  },
  {
   "cell_type": "code",
   "execution_count": 10,
   "id": "6d7f12d0",
   "metadata": {},
   "outputs": [
    {
     "data": {
      "text/plain": [
       "array([[<AxesSubplot:title={'center':'city_development_index'}>,\n",
       "        <AxesSubplot:title={'center':'experience'}>],\n",
       "       [<AxesSubplot:title={'center':'training_hours'}>, <AxesSubplot:>]],\n",
       "      dtype=object)"
      ]
     },
     "execution_count": 10,
     "metadata": {},
     "output_type": "execute_result"
    },
    {
     "data": {
      "image/png": "[encoded data removed]",
      "text/plain": [
       "<Figure size 864x864 with 4 Axes>"
      ]
     },
     "metadata": {
      "needs_background": "light"
     },
     "output_type": "display_data"
    }
   ],
   "source": [
    "#plotting histogram for the new dataset after dropping the null values\n",
    "df_new.hist(bins=50, density=True, figsize=(12, 12))"
   ]
  },
  {
   "cell_type": "markdown",
   "id": "3f7611dc",
   "metadata": {},
   "source": [
    "#### Comparison of the distribution for actual and new data\n",
    "\n",
    "Red color is for the actual data, \n",
    "Green color is after CCA"
   ]
  },
  {
   "cell_type": "code",
   "execution_count": 11,
   "id": "418d79fa",
   "metadata": {},
   "outputs": [
    {
     "data": {
      "text/plain": [
       "<AxesSubplot:>"
      ]
     },
     "execution_count": 11,
     "metadata": {},
     "output_type": "execute_result"
    },
    {
     "data": {
      "image/png": "[encoded data removed]",
      "text/plain": [
       "<Figure size 432x288 with 1 Axes>"
      ]
     },
     "metadata": {
      "needs_background": "light"
     },
     "output_type": "display_data"
    }
   ],
   "source": [
    "fig = plt.figure()\n",
    "ax = fig.add_subplot(111)\n",
    "\n",
    "# original data\n",
    "df['city_development_index'].hist(bins=50, ax=ax, density=True, color='red')\n",
    "\n",
    "# data after cca\n",
    "df_new['city_development_index'].hist(bins=50, ax=ax, color='green', density=True, alpha=0.8)"
   ]
  },
  {
   "cell_type": "code",
   "execution_count": 12,
   "id": "8e27e420",
   "metadata": {},
   "outputs": [
    {
     "data": {
      "text/plain": [
       "<AxesSubplot:ylabel='Density'>"
      ]
     },
     "execution_count": 12,
     "metadata": {},
     "output_type": "execute_result"
    },
    {
     "data": {
      "image/png": "[encoded data removed]",
      "text/plain": [
       "<Figure size 432x288 with 1 Axes>"
      ]
     },
     "metadata": {
      "needs_background": "light"
     },
     "output_type": "display_data"
    }
   ],
   "source": [
    "fig = plt.figure()\n",
    "ax = fig.add_subplot(111)\n",
    "\n",
    "# original data\n",
    "df['city_development_index'].plot.density(color='red')\n",
    "\n",
    "# data after cca\n",
    "df_new['city_development_index'].plot.density(color='green')"
   ]
  },
  {
   "cell_type": "code",
   "execution_count": 13,
   "id": "8c374274",
   "metadata": {},
   "outputs": [
    {
     "data": {
      "text/plain": [
       "<AxesSubplot:>"
      ]
     },
     "execution_count": 13,
     "metadata": {},
     "output_type": "execute_result"
    },
    {
     "data": {
      "image/png": "[encoded data removed]",
      "text/plain": [
       "<Figure size 432x288 with 1 Axes>"
      ]
     },
     "metadata": {
      "needs_background": "light"
     },
     "output_type": "display_data"
    }
   ],
   "source": [
    "fig = plt.figure()\n",
    "ax = fig.add_subplot(111)\n",
    "\n",
    "# original data\n",
    "df['experience'].hist(bins=50, ax=ax, density=True, color='red')\n",
    "\n",
    "# data after cca\n",
    "df_new['experience'].hist(bins=50, ax=ax, color='green', density=True, alpha=0.8)"
   ]
  },
  {
   "cell_type": "code",
   "execution_count": 14,
   "id": "ad79ed88",
   "metadata": {},
   "outputs": [
    {
     "data": {
      "text/plain": [
       "<AxesSubplot:ylabel='Density'>"
      ]
     },
     "execution_count": 14,
     "metadata": {},
     "output_type": "execute_result"
    },
    {
     "data": {
      "image/png": "[encoded data removed]",
      "text/plain": [
       "<Figure size 432x288 with 1 Axes>"
      ]
     },
     "metadata": {
      "needs_background": "light"
     },
     "output_type": "display_data"
    }
   ],
   "source": [
    "fig = plt.figure()\n",
    "ax = fig.add_subplot(111)\n",
    "\n",
    "# original data\n",
    "df['experience'].plot.density(color='red')\n",
    "\n",
    "# data after cca\n",
    "df_new['experience'].plot.density(color='green')"
   ]
  },
  {
   "cell_type": "code",
   "execution_count": 15,
   "id": "d83b66e9",
   "metadata": {},
   "outputs": [
    {
     "data": {
      "text/plain": [
       "<AxesSubplot:>"
      ]
     },
     "execution_count": 15,
     "metadata": {},
     "output_type": "execute_result"
    },
    {
     "data": {
      "image/png": "[encoded data removed]",
      "text/plain": [
       "<Figure size 432x288 with 1 Axes>"
      ]
     },
     "metadata": {
      "needs_background": "light"
     },
     "output_type": "display_data"
    }
   ],
   "source": [
    "fig = plt.figure()\n",
    "ax = fig.add_subplot(111)\n",
    "\n",
    "# original data\n",
    "df['training_hours'].hist(bins=50, ax=ax, density=True, color='red')\n",
    "\n",
    "# data after cca\n",
    "df_new['training_hours'].hist(bins=50, ax=ax, color='green', density=True, alpha=0.8)"
   ]
  },
  {
   "cell_type": "code",
   "execution_count": 16,
   "id": "250680b5",
   "metadata": {
    "scrolled": true
   },
   "outputs": [
    {
     "data": {
      "text/plain": [
       "<AxesSubplot:ylabel='Density'>"
      ]
     },
     "execution_count": 16,
     "metadata": {},
     "output_type": "execute_result"
    },
    {
     "data": {
      "image/png": "[encoded data removed]",
      "text/plain": [
       "<Figure size 432x288 with 1 Axes>"
      ]
     },
     "metadata": {
      "needs_background": "light"
     },
     "output_type": "display_data"
    }
   ],
   "source": [
    "fig = plt.figure()\n",
    "ax = fig.add_subplot(111)\n",
    "\n",
    "# original data\n",
    "df['training_hours'].plot.density(color='red')\n",
    "\n",
    "# data after cca\n",
    "df_new['training_hours'].plot.density(color='green')"
   ]
  },
  {
   "cell_type": "markdown",
   "id": "0a7a260b",
   "metadata": {},
   "source": [
    "As can be seen from the plots the distribution of the data does not get affected after application of CCA"
   ]
  },
  {
   "cell_type": "markdown",
   "id": "60f9b51f",
   "metadata": {},
   "source": [
    "#### CCA for categorical data"
   ]
  },
  {
   "cell_type": "code",
   "execution_count": 17,
   "id": "55c70b15",
   "metadata": {},
   "outputs": [
    {
     "data": {
      "text/html": [
       "<div>\n",
       "<style scoped>\n",
       "    .dataframe tbody tr th:only-of-type {\n",
       "        vertical-align: middle;\n",
       "    }\n",
       "\n",
       "    .dataframe tbody tr th {\n",
       "        vertical-align: top;\n",
       "    }\n",
       "\n",
       "    .dataframe thead th {\n",
       "        text-align: right;\n",
       "    }\n",
       "</style>\n",
       "<table border=\"1\" class=\"dataframe\">\n",
       "  <thead>\n",
       "    <tr style=\"text-align: right;\">\n",
       "      <th></th>\n",
       "      <th>original</th>\n",
       "      <th>after_cca</th>\n",
       "    </tr>\n",
       "  </thead>\n",
       "  <tbody>\n",
       "    <tr>\n",
       "      <th>no_enrollment</th>\n",
       "      <td>0.721213</td>\n",
       "      <td>0.735188</td>\n",
       "    </tr>\n",
       "    <tr>\n",
       "      <th>Full time course</th>\n",
       "      <td>0.196106</td>\n",
       "      <td>0.200733</td>\n",
       "    </tr>\n",
       "    <tr>\n",
       "      <th>Part time course</th>\n",
       "      <td>0.062533</td>\n",
       "      <td>0.064079</td>\n",
       "    </tr>\n",
       "  </tbody>\n",
       "</table>\n",
       "</div>"
      ],
      "text/plain": [
       "                  original  after_cca\n",
       "no_enrollment     0.721213   0.735188\n",
       "Full time course  0.196106   0.200733\n",
       "Part time course  0.062533   0.064079"
      ]
     },
     "execution_count": 17,
     "metadata": {},
     "output_type": "execute_result"
    }
   ],
   "source": [
    "prcnt_chng = pd.concat([df['enrolled_university'].value_counts() / len(df),\n",
    "                        df_new['enrolled_university'].value_counts() / len(df_new)], axis=1)\n",
    "\n",
    "prcnt_chng.columns = ['original', 'after_cca']\n",
    "prcnt_chng"
   ]
  },
  {
   "cell_type": "code",
   "execution_count": 18,
   "id": "5e273216",
   "metadata": {},
   "outputs": [
    {
     "data": {
      "text/html": [
       "<div>\n",
       "<style scoped>\n",
       "    .dataframe tbody tr th:only-of-type {\n",
       "        vertical-align: middle;\n",
       "    }\n",
       "\n",
       "    .dataframe tbody tr th {\n",
       "        vertical-align: top;\n",
       "    }\n",
       "\n",
       "    .dataframe thead th {\n",
       "        text-align: right;\n",
       "    }\n",
       "</style>\n",
       "<table border=\"1\" class=\"dataframe\">\n",
       "  <thead>\n",
       "    <tr style=\"text-align: right;\">\n",
       "      <th></th>\n",
       "      <th>original</th>\n",
       "      <th>after_cca</th>\n",
       "    </tr>\n",
       "  </thead>\n",
       "  <tbody>\n",
       "    <tr>\n",
       "      <th>Graduate</th>\n",
       "      <td>0.605387</td>\n",
       "      <td>0.619835</td>\n",
       "    </tr>\n",
       "    <tr>\n",
       "      <th>Masters</th>\n",
       "      <td>0.227633</td>\n",
       "      <td>0.234082</td>\n",
       "    </tr>\n",
       "    <tr>\n",
       "      <th>High School</th>\n",
       "      <td>0.105282</td>\n",
       "      <td>0.107380</td>\n",
       "    </tr>\n",
       "    <tr>\n",
       "      <th>Phd</th>\n",
       "      <td>0.021610</td>\n",
       "      <td>0.022116</td>\n",
       "    </tr>\n",
       "    <tr>\n",
       "      <th>Primary School</th>\n",
       "      <td>0.016077</td>\n",
       "      <td>0.016587</td>\n",
       "    </tr>\n",
       "  </tbody>\n",
       "</table>\n",
       "</div>"
      ],
      "text/plain": [
       "                original  after_cca\n",
       "Graduate        0.605387   0.619835\n",
       "Masters         0.227633   0.234082\n",
       "High School     0.105282   0.107380\n",
       "Phd             0.021610   0.022116\n",
       "Primary School  0.016077   0.016587"
      ]
     },
     "execution_count": 18,
     "metadata": {},
     "output_type": "execute_result"
    }
   ],
   "source": [
    "prcnt_chng = pd.concat([df['education_level'].value_counts() / len(df),\n",
    "                        df_new['education_level'].value_counts() / len(df_new)], axis=1)\n",
    "\n",
    "prcnt_chng.columns = ['original', 'after_cca']\n",
    "prcnt_chng"
   ]
  },
  {
   "cell_type": "markdown",
   "id": "e51b36a8",
   "metadata": {},
   "source": [
    "As can be seen there is not much difference in the percentage change before and after applying the CCA on the cayegorical columns"
   ]
  },
  {
   "cell_type": "markdown",
   "id": "0242ce87",
   "metadata": {},
   "source": [
    "#### Advantages of CCA:\n",
    "It is easy to implement and the distribution of the data is preserved\n",
    "#### Disadvantages of CCA:\n",
    "It can exclude large volume of data and the model wouldn't know how to handle missing data"
   ]
  },
  {
   "cell_type": "markdown",
   "id": "219345a4",
   "metadata": {},
   "source": [
    "  "
   ]
  },
  {
   "cell_type": "markdown",
   "id": "05d73f89",
   "metadata": {},
   "source": [
    "  "
   ]
  },
  {
   "cell_type": "markdown",
   "id": "50caefd5",
   "metadata": {},
   "source": [
    "### Univariate method:"
   ]
  },
  {
   "cell_type": "markdown",
   "id": "fefa8b01",
   "metadata": {},
   "source": [
    "#### Mean/Median Imputation:"
   ]
  },
  {
   "cell_type": "code",
   "execution_count": 19,
   "id": "c26ff805",
   "metadata": {},
   "outputs": [],
   "source": [
    "from sklearn.model_selection import train_test_split"
   ]
  },
  {
   "cell_type": "code",
   "execution_count": 20,
   "id": "3aae3c16",
   "metadata": {},
   "outputs": [
    {
     "data": {
      "text/html": [
       "<div>\n",
       "<style scoped>\n",
       "    .dataframe tbody tr th:only-of-type {\n",
       "        vertical-align: middle;\n",
       "    }\n",
       "\n",
       "    .dataframe tbody tr th {\n",
       "        vertical-align: top;\n",
       "    }\n",
       "\n",
       "    .dataframe thead th {\n",
       "        text-align: right;\n",
       "    }\n",
       "</style>\n",
       "<table border=\"1\" class=\"dataframe\">\n",
       "  <thead>\n",
       "    <tr style=\"text-align: right;\">\n",
       "      <th></th>\n",
       "      <th>enrollee_id</th>\n",
       "      <th>city</th>\n",
       "      <th>city_development_index</th>\n",
       "      <th>gender</th>\n",
       "      <th>relevent_experience</th>\n",
       "      <th>enrolled_university</th>\n",
       "      <th>education_level</th>\n",
       "      <th>major_discipline</th>\n",
       "      <th>experience</th>\n",
       "      <th>company_size</th>\n",
       "      <th>company_type</th>\n",
       "      <th>training_hours</th>\n",
       "      <th>target</th>\n",
       "    </tr>\n",
       "  </thead>\n",
       "  <tbody>\n",
       "    <tr>\n",
       "      <th>0</th>\n",
       "      <td>8949</td>\n",
       "      <td>city_103</td>\n",
       "      <td>0.920</td>\n",
       "      <td>Male</td>\n",
       "      <td>Has relevent experience</td>\n",
       "      <td>no_enrollment</td>\n",
       "      <td>Graduate</td>\n",
       "      <td>STEM</td>\n",
       "      <td>20.0</td>\n",
       "      <td>NaN</td>\n",
       "      <td>NaN</td>\n",
       "      <td>36.0</td>\n",
       "      <td>1.0</td>\n",
       "    </tr>\n",
       "    <tr>\n",
       "      <th>1</th>\n",
       "      <td>29725</td>\n",
       "      <td>city_40</td>\n",
       "      <td>0.776</td>\n",
       "      <td>Male</td>\n",
       "      <td>No relevent experience</td>\n",
       "      <td>no_enrollment</td>\n",
       "      <td>Graduate</td>\n",
       "      <td>STEM</td>\n",
       "      <td>15.0</td>\n",
       "      <td>50-99</td>\n",
       "      <td>Pvt Ltd</td>\n",
       "      <td>47.0</td>\n",
       "      <td>0.0</td>\n",
       "    </tr>\n",
       "    <tr>\n",
       "      <th>2</th>\n",
       "      <td>11561</td>\n",
       "      <td>city_21</td>\n",
       "      <td>0.624</td>\n",
       "      <td>NaN</td>\n",
       "      <td>No relevent experience</td>\n",
       "      <td>Full time course</td>\n",
       "      <td>Graduate</td>\n",
       "      <td>STEM</td>\n",
       "      <td>5.0</td>\n",
       "      <td>NaN</td>\n",
       "      <td>NaN</td>\n",
       "      <td>83.0</td>\n",
       "      <td>0.0</td>\n",
       "    </tr>\n",
       "    <tr>\n",
       "      <th>3</th>\n",
       "      <td>33241</td>\n",
       "      <td>city_115</td>\n",
       "      <td>0.789</td>\n",
       "      <td>NaN</td>\n",
       "      <td>No relevent experience</td>\n",
       "      <td>NaN</td>\n",
       "      <td>Graduate</td>\n",
       "      <td>Business Degree</td>\n",
       "      <td>0.0</td>\n",
       "      <td>NaN</td>\n",
       "      <td>Pvt Ltd</td>\n",
       "      <td>52.0</td>\n",
       "      <td>1.0</td>\n",
       "    </tr>\n",
       "    <tr>\n",
       "      <th>4</th>\n",
       "      <td>666</td>\n",
       "      <td>city_162</td>\n",
       "      <td>0.767</td>\n",
       "      <td>Male</td>\n",
       "      <td>Has relevent experience</td>\n",
       "      <td>no_enrollment</td>\n",
       "      <td>Masters</td>\n",
       "      <td>STEM</td>\n",
       "      <td>20.0</td>\n",
       "      <td>50-99</td>\n",
       "      <td>Funded Startup</td>\n",
       "      <td>8.0</td>\n",
       "      <td>0.0</td>\n",
       "    </tr>\n",
       "  </tbody>\n",
       "</table>\n",
       "</div>"
      ],
      "text/plain": [
       "   enrollee_id      city  city_development_index gender  \\\n",
       "0         8949  city_103                   0.920   Male   \n",
       "1        29725   city_40                   0.776   Male   \n",
       "2        11561   city_21                   0.624    NaN   \n",
       "3        33241  city_115                   0.789    NaN   \n",
       "4          666  city_162                   0.767   Male   \n",
       "\n",
       "       relevent_experience enrolled_university education_level  \\\n",
       "0  Has relevent experience       no_enrollment        Graduate   \n",
       "1   No relevent experience       no_enrollment        Graduate   \n",
       "2   No relevent experience    Full time course        Graduate   \n",
       "3   No relevent experience                 NaN        Graduate   \n",
       "4  Has relevent experience       no_enrollment         Masters   \n",
       "\n",
       "  major_discipline  experience company_size    company_type  training_hours  \\\n",
       "0             STEM        20.0          NaN             NaN            36.0   \n",
       "1             STEM        15.0        50-99         Pvt Ltd            47.0   \n",
       "2             STEM         5.0          NaN             NaN            83.0   \n",
       "3  Business Degree         0.0          NaN         Pvt Ltd            52.0   \n",
       "4             STEM        20.0        50-99  Funded Startup             8.0   \n",
       "\n",
       "   target  \n",
       "0     1.0  \n",
       "1     0.0  \n",
       "2     0.0  \n",
       "3     1.0  \n",
       "4     0.0  "
      ]
     },
     "execution_count": 20,
     "metadata": {},
     "output_type": "execute_result"
    }
   ],
   "source": [
    "df.head(5)"
   ]
  },
  {
   "cell_type": "code",
   "execution_count": 21,
   "id": "3b4dadcc",
   "metadata": {},
   "outputs": [],
   "source": [
    "X = df.drop(columns=['target'])\n",
    "y = df['target']"
   ]
  },
  {
   "cell_type": "code",
   "execution_count": 22,
   "id": "54cd8304",
   "metadata": {},
   "outputs": [],
   "source": [
    "X_train,X_test,y_train,y_test = train_test_split(X,y,test_size=0.2,random_state=2)"
   ]
  },
  {
   "cell_type": "code",
   "execution_count": 23,
   "id": "b0ecfe74",
   "metadata": {},
   "outputs": [
    {
     "data": {
      "text/plain": [
       "((15326, 12), (3832, 12))"
      ]
     },
     "execution_count": 23,
     "metadata": {},
     "output_type": "execute_result"
    }
   ],
   "source": [
    "X_train.shape, X_test.shape"
   ]
  },
  {
   "cell_type": "code",
   "execution_count": 24,
   "id": "b2d2cfff",
   "metadata": {},
   "outputs": [
    {
     "data": {
      "text/plain": [
       "enrollee_id                0.000000\n",
       "city                       0.000000\n",
       "city_development_index     2.551220\n",
       "gender                    23.548219\n",
       "relevent_experience        0.000000\n",
       "enrolled_university        1.918309\n",
       "education_level            2.427248\n",
       "major_discipline          14.667885\n",
       "experience                 0.319718\n",
       "company_size              31.019183\n",
       "company_type              32.043586\n",
       "training_hours             3.980164\n",
       "dtype: float64"
      ]
     },
     "execution_count": 24,
     "metadata": {},
     "output_type": "execute_result"
    }
   ],
   "source": [
    "X_train.isnull().mean()*100"
   ]
  },
  {
   "cell_type": "code",
   "execution_count": 25,
   "id": "442e0a35",
   "metadata": {},
   "outputs": [],
   "source": [
    "mean_city_development_index = X_train['city_development_index'].mean()\n",
    "median_city_development_index = X_train['city_development_index'].median()\n",
    "\n",
    "mean_experience = X_train['experience'].mean()\n",
    "median_experience = X_train['experience'].median()\n",
    "\n",
    "\n",
    "mean_training_hours = X_train['training_hours'].mean()\n",
    "median_training_hours = X_train['training_hours'].median()"
   ]
  },
  {
   "cell_type": "code",
   "execution_count": 26,
   "id": "9449c9da",
   "metadata": {},
   "outputs": [],
   "source": [
    "X_train['mean_city_development_index'] = X_train['city_development_index'].fillna(mean_city_development_index)\n",
    "X_train['median_city_development_index'] = X_train['city_development_index'].fillna(median_city_development_index)\n",
    "\n",
    "\n",
    "X_train['mean_experience'] = X_train['experience'].fillna(mean_experience)\n",
    "X_train['median_experience'] = X_train['experience'].fillna(median_experience)\n",
    "\n",
    "X_train['mean_training_hours'] = X_train['training_hours'].fillna(mean_training_hours)\n",
    "X_train['median_training_hours'] = X_train['training_hours'].fillna(median_training_hours)"
   ]
  },
  {
   "cell_type": "code",
   "execution_count": 27,
   "id": "9e1cca27",
   "metadata": {
    "scrolled": true
   },
   "outputs": [
    {
     "data": {
      "text/html": [
       "<div>\n",
       "<style scoped>\n",
       "    .dataframe tbody tr th:only-of-type {\n",
       "        vertical-align: middle;\n",
       "    }\n",
       "\n",
       "    .dataframe tbody tr th {\n",
       "        vertical-align: top;\n",
       "    }\n",
       "\n",
       "    .dataframe thead th {\n",
       "        text-align: right;\n",
       "    }\n",
       "</style>\n",
       "<table border=\"1\" class=\"dataframe\">\n",
       "  <thead>\n",
       "    <tr style=\"text-align: right;\">\n",
       "      <th></th>\n",
       "      <th>enrollee_id</th>\n",
       "      <th>city</th>\n",
       "      <th>city_development_index</th>\n",
       "      <th>gender</th>\n",
       "      <th>relevent_experience</th>\n",
       "      <th>enrolled_university</th>\n",
       "      <th>education_level</th>\n",
       "      <th>major_discipline</th>\n",
       "      <th>experience</th>\n",
       "      <th>company_size</th>\n",
       "      <th>company_type</th>\n",
       "      <th>training_hours</th>\n",
       "      <th>mean_city_development_index</th>\n",
       "      <th>median_city_development_index</th>\n",
       "      <th>mean_experience</th>\n",
       "      <th>median_experience</th>\n",
       "      <th>mean_training_hours</th>\n",
       "      <th>median_training_hours</th>\n",
       "    </tr>\n",
       "  </thead>\n",
       "  <tbody>\n",
       "    <tr>\n",
       "      <th>14485</th>\n",
       "      <td>10032</td>\n",
       "      <td>city_98</td>\n",
       "      <td>0.949</td>\n",
       "      <td>Male</td>\n",
       "      <td>No relevent experience</td>\n",
       "      <td>no_enrollment</td>\n",
       "      <td>Masters</td>\n",
       "      <td>Business Degree</td>\n",
       "      <td>16.0</td>\n",
       "      <td>10000+</td>\n",
       "      <td>Pvt Ltd</td>\n",
       "      <td>23.0</td>\n",
       "      <td>0.949</td>\n",
       "      <td>0.949</td>\n",
       "      <td>16.0</td>\n",
       "      <td>16.0</td>\n",
       "      <td>23.0</td>\n",
       "      <td>23.0</td>\n",
       "    </tr>\n",
       "    <tr>\n",
       "      <th>17344</th>\n",
       "      <td>7565</td>\n",
       "      <td>city_73</td>\n",
       "      <td>0.754</td>\n",
       "      <td>Male</td>\n",
       "      <td>No relevent experience</td>\n",
       "      <td>Full time course</td>\n",
       "      <td>Graduate</td>\n",
       "      <td>STEM</td>\n",
       "      <td>8.0</td>\n",
       "      <td>NaN</td>\n",
       "      <td>NaN</td>\n",
       "      <td>44.0</td>\n",
       "      <td>0.754</td>\n",
       "      <td>0.754</td>\n",
       "      <td>8.0</td>\n",
       "      <td>8.0</td>\n",
       "      <td>44.0</td>\n",
       "      <td>44.0</td>\n",
       "    </tr>\n",
       "    <tr>\n",
       "      <th>4910</th>\n",
       "      <td>2154</td>\n",
       "      <td>city_50</td>\n",
       "      <td>0.896</td>\n",
       "      <td>Male</td>\n",
       "      <td>Has relevent experience</td>\n",
       "      <td>no_enrollment</td>\n",
       "      <td>Masters</td>\n",
       "      <td>STEM</td>\n",
       "      <td>17.0</td>\n",
       "      <td>10000+</td>\n",
       "      <td>Pvt Ltd</td>\n",
       "      <td>78.0</td>\n",
       "      <td>0.896</td>\n",
       "      <td>0.896</td>\n",
       "      <td>17.0</td>\n",
       "      <td>17.0</td>\n",
       "      <td>78.0</td>\n",
       "      <td>78.0</td>\n",
       "    </tr>\n",
       "    <tr>\n",
       "      <th>12794</th>\n",
       "      <td>15416</td>\n",
       "      <td>city_36</td>\n",
       "      <td>0.893</td>\n",
       "      <td>Male</td>\n",
       "      <td>No relevent experience</td>\n",
       "      <td>no_enrollment</td>\n",
       "      <td>Masters</td>\n",
       "      <td>Business Degree</td>\n",
       "      <td>11.0</td>\n",
       "      <td>100-500</td>\n",
       "      <td>Pvt Ltd</td>\n",
       "      <td>90.0</td>\n",
       "      <td>0.893</td>\n",
       "      <td>0.893</td>\n",
       "      <td>11.0</td>\n",
       "      <td>11.0</td>\n",
       "      <td>90.0</td>\n",
       "      <td>90.0</td>\n",
       "    </tr>\n",
       "    <tr>\n",
       "      <th>3984</th>\n",
       "      <td>29599</td>\n",
       "      <td>city_114</td>\n",
       "      <td>0.926</td>\n",
       "      <td>Male</td>\n",
       "      <td>Has relevent experience</td>\n",
       "      <td>no_enrollment</td>\n",
       "      <td>Masters</td>\n",
       "      <td>STEM</td>\n",
       "      <td>20.0</td>\n",
       "      <td>50-99</td>\n",
       "      <td>Pvt Ltd</td>\n",
       "      <td>18.0</td>\n",
       "      <td>0.926</td>\n",
       "      <td>0.926</td>\n",
       "      <td>20.0</td>\n",
       "      <td>20.0</td>\n",
       "      <td>18.0</td>\n",
       "      <td>18.0</td>\n",
       "    </tr>\n",
       "  </tbody>\n",
       "</table>\n",
       "</div>"
      ],
      "text/plain": [
       "       enrollee_id      city  city_development_index gender  \\\n",
       "14485        10032   city_98                   0.949   Male   \n",
       "17344         7565   city_73                   0.754   Male   \n",
       "4910          2154   city_50                   0.896   Male   \n",
       "12794        15416   city_36                   0.893   Male   \n",
       "3984         29599  city_114                   0.926   Male   \n",
       "\n",
       "           relevent_experience enrolled_university education_level  \\\n",
       "14485   No relevent experience       no_enrollment         Masters   \n",
       "17344   No relevent experience    Full time course        Graduate   \n",
       "4910   Has relevent experience       no_enrollment         Masters   \n",
       "12794   No relevent experience       no_enrollment         Masters   \n",
       "3984   Has relevent experience       no_enrollment         Masters   \n",
       "\n",
       "      major_discipline  experience company_size company_type  training_hours  \\\n",
       "14485  Business Degree        16.0       10000+      Pvt Ltd            23.0   \n",
       "17344             STEM         8.0          NaN          NaN            44.0   \n",
       "4910              STEM        17.0       10000+      Pvt Ltd            78.0   \n",
       "12794  Business Degree        11.0      100-500      Pvt Ltd            90.0   \n",
       "3984              STEM        20.0        50-99      Pvt Ltd            18.0   \n",
       "\n",
       "       mean_city_development_index  median_city_development_index  \\\n",
       "14485                        0.949                          0.949   \n",
       "17344                        0.754                          0.754   \n",
       "4910                         0.896                          0.896   \n",
       "12794                        0.893                          0.893   \n",
       "3984                         0.926                          0.926   \n",
       "\n",
       "       mean_experience  median_experience  mean_training_hours  \\\n",
       "14485             16.0               16.0                 23.0   \n",
       "17344              8.0                8.0                 44.0   \n",
       "4910              17.0               17.0                 78.0   \n",
       "12794             11.0               11.0                 90.0   \n",
       "3984              20.0               20.0                 18.0   \n",
       "\n",
       "       median_training_hours  \n",
       "14485                   23.0  \n",
       "17344                   44.0  \n",
       "4910                    78.0  \n",
       "12794                   90.0  \n",
       "3984                    18.0  "
      ]
     },
     "execution_count": 27,
     "metadata": {},
     "output_type": "execute_result"
    }
   ],
   "source": [
    "X_train.sample(5)"
   ]
  },
  {
   "cell_type": "markdown",
   "id": "279c3091",
   "metadata": {},
   "source": [
    "We will see how the variance of the data is changing after applying the mean/median imputation. "
   ]
  },
  {
   "cell_type": "code",
   "execution_count": 28,
   "id": "2b1b1692",
   "metadata": {},
   "outputs": [
    {
     "name": "stdout",
     "output_type": "stream",
     "text": [
      "Original city_development_index variable variance:  0.015232596622262501\n",
      "city_development_index Variance after median imputation:  0.014981311927511435\n",
      "city_development_index Variance after mean imputation:  0.014843954189681324\n",
      "Original experience variable variance:  42.31272262041923\n",
      "experience Variance after median imputation:  42.180276296408245\n",
      "experience Variance after mean imputation:  42.17743234907142\n",
      "Original training_hours variable variance:  3605.7523453683752\n",
      "training_hours Variance after median imputation:  3474.8349974528187\n",
      "training_hours Variance after mean imputation:  3462.228108456481\n"
     ]
    }
   ],
   "source": [
    "print('Original city_development_index variable variance: ', X_train['city_development_index'].var())\n",
    "print('city_development_index Variance after median imputation: ', X_train['median_city_development_index'].var())\n",
    "print('city_development_index Variance after mean imputation: ', X_train['mean_city_development_index'].var())\n",
    "\n",
    "print('Original experience variable variance: ', X_train['experience'].var())\n",
    "print('experience Variance after median imputation: ', X_train['median_experience'].var())\n",
    "print('experience Variance after mean imputation: ', X_train['mean_experience'].var())\n",
    "\n",
    "print('Original training_hours variable variance: ', X_train['training_hours'].var())\n",
    "print('training_hours Variance after median imputation: ', X_train['median_training_hours'].var())\n",
    "print('training_hours Variance after mean imputation: ', X_train['mean_training_hours'].var())"
   ]
  },
  {
   "cell_type": "markdown",
   "id": "18c657e4",
   "metadata": {},
   "source": [
    "As can be seen from the results there is not much srinkage in the varience after the application of the mean/median imputation"
   ]
  },
  {
   "cell_type": "markdown",
   "id": "50c91e4b",
   "metadata": {},
   "source": [
    " "
   ]
  },
  {
   "cell_type": "markdown",
   "id": "d787b388",
   "metadata": {},
   "source": [
    "Now we will visualise how the distribution is changing before and after application of the mean/median imputation."
   ]
  },
  {
   "cell_type": "code",
   "execution_count": 29,
   "id": "c144db25",
   "metadata": {},
   "outputs": [
    {
     "data": {
      "text/plain": [
       "<matplotlib.legend.Legend at 0x28d82e0bf40>"
      ]
     },
     "execution_count": 29,
     "metadata": {},
     "output_type": "execute_result"
    },
    {
     "data": {
      "image/png": "[encoded data removed]",
      "text/plain": [
       "<Figure size 432x288 with 1 Axes>"
      ]
     },
     "metadata": {
      "needs_background": "light"
     },
     "output_type": "display_data"
    }
   ],
   "source": [
    "fig = plt.figure()\n",
    "ax = fig.add_subplot(111)\n",
    "\n",
    "# original variable distribution\n",
    "X_train['city_development_index'].plot(kind='kde', ax=ax)\n",
    "\n",
    "# variable imputed with the median\n",
    "X_train['median_city_development_index'].plot(kind='kde', ax=ax, color='red')\n",
    "\n",
    "# variable imputed with the mean\n",
    "X_train['mean_city_development_index'].plot(kind='kde', ax=ax, color='green')\n",
    "\n",
    "# add legends\n",
    "lines, labels = ax.get_legend_handles_labels()\n",
    "ax.legend(lines, labels, loc='best')"
   ]
  },
  {
   "cell_type": "code",
   "execution_count": 30,
   "id": "d93b0886",
   "metadata": {},
   "outputs": [
    {
     "data": {
      "text/plain": [
       "<matplotlib.legend.Legend at 0x28d82e8ff70>"
      ]
     },
     "execution_count": 30,
     "metadata": {},
     "output_type": "execute_result"
    },
    {
     "data": {
      "image/png": "[encoded data removed]",
      "text/plain": [
       "<Figure size 432x288 with 1 Axes>"
      ]
     },
     "metadata": {
      "needs_background": "light"
     },
     "output_type": "display_data"
    }
   ],
   "source": [
    "fig = plt.figure()\n",
    "ax = fig.add_subplot(111)\n",
    "\n",
    "# original variable distribution\n",
    "X_train['experience'].plot(kind='kde', ax=ax)\n",
    "\n",
    "# variable imputed with the median\n",
    "X_train['median_experience'].plot(kind='kde', ax=ax, color='red')\n",
    "\n",
    "# variable imputed with the mean\n",
    "X_train['mean_experience'].plot(kind='kde', ax=ax, color='green')\n",
    "\n",
    "# add legends\n",
    "lines, labels = ax.get_legend_handles_labels()\n",
    "ax.legend(lines, labels, loc='best')"
   ]
  },
  {
   "cell_type": "code",
   "execution_count": 31,
   "id": "c54817dc",
   "metadata": {
    "scrolled": false
   },
   "outputs": [
    {
     "data": {
      "text/plain": [
       "<matplotlib.legend.Legend at 0x28d83062340>"
      ]
     },
     "execution_count": 31,
     "metadata": {},
     "output_type": "execute_result"
    },
    {
     "data": {
      "image/png": "[encoded data removed]",
      "text/plain": [
       "<Figure size 432x288 with 1 Axes>"
      ]
     },
     "metadata": {
      "needs_background": "light"
     },
     "output_type": "display_data"
    }
   ],
   "source": [
    "fig = plt.figure()\n",
    "ax = fig.add_subplot(111)\n",
    "\n",
    "# original variable distribution\n",
    "X_train['training_hours'].plot(kind='kde', ax=ax)\n",
    "\n",
    "# variable imputed with the median\n",
    "X_train['median_training_hours'].plot(kind='kde', ax=ax, color='red')\n",
    "\n",
    "# variable imputed with the mean\n",
    "X_train['mean_training_hours'].plot(kind='kde', ax=ax, color='green')\n",
    "\n",
    "# add legends\n",
    "lines, labels = ax.get_legend_handles_labels()\n",
    "ax.legend(lines, labels, loc='best')"
   ]
  },
  {
   "cell_type": "markdown",
   "id": "ce20bb96",
   "metadata": {},
   "source": [
    "We can conclude that the distribution is not changing much "
   ]
  },
  {
   "cell_type": "markdown",
   "id": "24d10415",
   "metadata": {},
   "source": [
    "  "
   ]
  },
  {
   "cell_type": "markdown",
   "id": "5f27a1d5",
   "metadata": {},
   "source": [
    "Now our aim is to see if after applying the mean/median imputation the outliars are increasing or not"
   ]
  },
  {
   "cell_type": "code",
   "execution_count": 32,
   "id": "b13d660a",
   "metadata": {},
   "outputs": [
    {
     "data": {
      "text/plain": [
       "(array([1, 2, 3]),\n",
       " [Text(1, 0, 'city_development_index'),\n",
       "  Text(2, 0, 'median_city_development_index'),\n",
       "  Text(3, 0, 'mean_city_development_index')])"
      ]
     },
     "execution_count": 32,
     "metadata": {},
     "output_type": "execute_result"
    },
    {
     "data": {
      "image/png": "[encoded data removed]",
      "text/plain": [
       "<Figure size 432x288 with 1 Axes>"
      ]
     },
     "metadata": {
      "needs_background": "light"
     },
     "output_type": "display_data"
    }
   ],
   "source": [
    "X_train[['city_development_index', 'median_city_development_index', 'mean_city_development_index']].boxplot()\n",
    "plt.xticks(rotation=90)"
   ]
  },
  {
   "cell_type": "code",
   "execution_count": 33,
   "id": "cf7ceef9",
   "metadata": {},
   "outputs": [
    {
     "data": {
      "text/plain": [
       "(array([1, 2, 3]),\n",
       " [Text(1, 0, 'experience'),\n",
       "  Text(2, 0, 'median_experience'),\n",
       "  Text(3, 0, 'mean_experience')])"
      ]
     },
     "execution_count": 33,
     "metadata": {},
     "output_type": "execute_result"
    },
    {
     "data": {
      "image/png": "[encoded data removed]",
      "text/plain": [
       "<Figure size 432x288 with 1 Axes>"
      ]
     },
     "metadata": {
      "needs_background": "light"
     },
     "output_type": "display_data"
    }
   ],
   "source": [
    "X_train[['experience', 'median_experience', 'mean_experience']].boxplot()\n",
    "plt.xticks(rotation=90)"
   ]
  },
  {
   "cell_type": "code",
   "execution_count": 34,
   "id": "774e1202",
   "metadata": {},
   "outputs": [
    {
     "data": {
      "text/plain": [
       "(array([1, 2, 3]),\n",
       " [Text(1, 0, 'training_hours'),\n",
       "  Text(2, 0, 'median_training_hours'),\n",
       "  Text(3, 0, 'mean_training_hours')])"
      ]
     },
     "execution_count": 34,
     "metadata": {},
     "output_type": "execute_result"
    },
    {
     "data": {
      "image/png": "[encoded data removed]",
      "text/plain": [
       "<Figure size 432x288 with 1 Axes>"
      ]
     },
     "metadata": {
      "needs_background": "light"
     },
     "output_type": "display_data"
    }
   ],
   "source": [
    "X_train[['training_hours', 'median_training_hours', 'mean_training_hours']].boxplot()\n",
    "plt.xticks(rotation=90)"
   ]
  },
  {
   "cell_type": "markdown",
   "id": "12e282b3",
   "metadata": {},
   "source": [
    "We can conclude that although the number of outliers are not increasing but for the column \"training_hours\" the outliers have increased slightly."
   ]
  },
  {
   "cell_type": "markdown",
   "id": "5459a8e0",
   "metadata": {},
   "source": [
    "### Categorial data"
   ]
  },
  {
   "cell_type": "markdown",
   "id": "a0145257",
   "metadata": {},
   "source": [
    "For categorical data we replace the null value with mode."
   ]
  },
  {
   "cell_type": "code",
   "execution_count": 35,
   "id": "567ff536",
   "metadata": {},
   "outputs": [
    {
     "data": {
      "text/plain": [
       "enrollee_id                0.000000\n",
       "city                       0.000000\n",
       "city_development_index     2.500261\n",
       "gender                    23.530640\n",
       "relevent_experience        0.000000\n",
       "enrolled_university        2.014824\n",
       "education_level            2.401086\n",
       "major_discipline          14.683161\n",
       "experience                 0.339284\n",
       "company_size              30.994885\n",
       "company_type              32.049274\n",
       "training_hours             3.998330\n",
       "target                     0.000000\n",
       "dtype: float64"
      ]
     },
     "execution_count": 35,
     "metadata": {},
     "output_type": "execute_result"
    }
   ],
   "source": [
    "df.isnull().mean()*100"
   ]
  },
  {
   "cell_type": "code",
   "execution_count": 36,
   "id": "807ffa71",
   "metadata": {},
   "outputs": [],
   "source": [
    "#for categorical column which has less than 5% missing value"
   ]
  },
  {
   "cell_type": "code",
   "execution_count": 37,
   "id": "7a2ffc04",
   "metadata": {},
   "outputs": [
    {
     "data": {
      "text/plain": [
       "<AxesSubplot:>"
      ]
     },
     "execution_count": 37,
     "metadata": {},
     "output_type": "execute_result"
    },
    {
     "data": {
      "image/png": "[encoded data removed]",
      "text/plain": [
       "<Figure size 432x288 with 1 Axes>"
      ]
     },
     "metadata": {
      "needs_background": "light"
     },
     "output_type": "display_data"
    }
   ],
   "source": [
    "df['enrolled_university'].value_counts().plot(kind='bar')"
   ]
  },
  {
   "cell_type": "code",
   "execution_count": 38,
   "id": "d0721f24",
   "metadata": {},
   "outputs": [
    {
     "data": {
      "text/plain": [
       "0    no_enrollment\n",
       "Name: enrolled_university, dtype: object"
      ]
     },
     "execution_count": 38,
     "metadata": {},
     "output_type": "execute_result"
    }
   ],
   "source": [
    "df['enrolled_university'].mode()"
   ]
  },
  {
   "cell_type": "code",
   "execution_count": 39,
   "id": "b7102276",
   "metadata": {},
   "outputs": [
    {
     "data": {
      "text/plain": [
       "Text(0.5, 1.0, 'enrolled_university')"
      ]
     },
     "execution_count": 39,
     "metadata": {},
     "output_type": "execute_result"
    },
    {
     "data": {
      "image/png": "[encoded data removed]",
      "text/plain": [
       "<Figure size 432x288 with 1 Axes>"
      ]
     },
     "metadata": {
      "needs_background": "light"
     },
     "output_type": "display_data"
    }
   ],
   "source": [
    "fig = plt.figure()\n",
    "ax = fig.add_subplot(111)\n",
    "\n",
    "df[df['enrolled_university']=='no_enrollment']['target'].plot(kind='kde', ax=ax)\n",
    "\n",
    "df[df['enrolled_university'].isnull()]['target'].plot(kind='kde', ax=ax, color='red')\n",
    "\n",
    "lines, labels = ax.get_legend_handles_labels()\n",
    "labels = ['enrolled_university with no_enrollment', 'enrolled_university with NA']\n",
    "ax.legend(lines, labels, loc='best')\n",
    "\n",
    "plt.title('enrolled_university')"
   ]
  },
  {
   "cell_type": "code",
   "execution_count": 40,
   "id": "e56f99e8",
   "metadata": {},
   "outputs": [],
   "source": [
    "temp = df[df['enrolled_university']=='no_enrollment']['target']"
   ]
  },
  {
   "cell_type": "code",
   "execution_count": 41,
   "id": "35586856",
   "metadata": {},
   "outputs": [],
   "source": [
    "df['enrolled_university'].fillna('no_enrollment', inplace=True)"
   ]
  },
  {
   "cell_type": "code",
   "execution_count": 42,
   "id": "5274191a",
   "metadata": {},
   "outputs": [
    {
     "data": {
      "text/plain": [
       "<AxesSubplot:>"
      ]
     },
     "execution_count": 42,
     "metadata": {},
     "output_type": "execute_result"
    },
    {
     "data": {
      "image/png": "[encoded data removed]",
      "text/plain": [
       "<Figure size 432x288 with 1 Axes>"
      ]
     },
     "metadata": {
      "needs_background": "light"
     },
     "output_type": "display_data"
    }
   ],
   "source": [
    "df['enrolled_university'].value_counts().plot(kind='bar')"
   ]
  },
  {
   "cell_type": "code",
   "execution_count": 43,
   "id": "c63164b2",
   "metadata": {},
   "outputs": [
    {
     "data": {
      "text/plain": [
       "Text(0.5, 1.0, 'enrolled_university')"
      ]
     },
     "execution_count": 43,
     "metadata": {},
     "output_type": "execute_result"
    },
    {
     "data": {
      "image/png": "[encoded data removed]",
      "text/plain": [
       "<Figure size 432x288 with 1 Axes>"
      ]
     },
     "metadata": {
      "needs_background": "light"
     },
     "output_type": "display_data"
    }
   ],
   "source": [
    "fig = plt.figure()\n",
    "ax = fig.add_subplot(111)\n",
    "\n",
    "\n",
    "temp.plot(kind='kde', ax=ax)\n",
    "\n",
    "# distribution of the variable after imputation\n",
    "df[df['enrolled_university']=='no_enrollment']['target'].plot(kind='kde', ax=ax, color='red')\n",
    "\n",
    "lines, labels = ax.get_legend_handles_labels()\n",
    "labels = ['Original variable', 'Imputed variable']\n",
    "ax.legend(lines, labels, loc='best')\n",
    "\n",
    "# add title\n",
    "plt.title('enrolled_university')"
   ]
  },
  {
   "cell_type": "markdown",
   "id": "77e7cded",
   "metadata": {},
   "source": [
    "#### For categorical column which has more than 5% missing value"
   ]
  },
  {
   "cell_type": "code",
   "execution_count": 44,
   "id": "bc153e4d",
   "metadata": {
    "scrolled": true
   },
   "outputs": [
    {
     "data": {
      "text/plain": [
       "<AxesSubplot:>"
      ]
     },
     "execution_count": 44,
     "metadata": {},
     "output_type": "execute_result"
    },
    {
     "data": {
      "image/png": "[encoded data removed]",
      "text/plain": [
       "<Figure size 432x288 with 1 Axes>"
      ]
     },
     "metadata": {
      "needs_background": "light"
     },
     "output_type": "display_data"
    }
   ],
   "source": [
    "df.gender.value_counts().plot(kind=\"bar\")"
   ]
  },
  {
   "cell_type": "code",
   "execution_count": 45,
   "id": "cb726c07",
   "metadata": {},
   "outputs": [
    {
     "data": {
      "text/plain": [
       "0    Male\n",
       "Name: gender, dtype: object"
      ]
     },
     "execution_count": 45,
     "metadata": {},
     "output_type": "execute_result"
    }
   ],
   "source": [
    "df.gender.mode()"
   ]
  },
  {
   "cell_type": "code",
   "execution_count": 46,
   "id": "4aceb902",
   "metadata": {
    "scrolled": false
   },
   "outputs": [
    {
     "data": {
      "text/plain": [
       "Text(0.5, 1.0, 'Gender')"
      ]
     },
     "execution_count": 46,
     "metadata": {},
     "output_type": "execute_result"
    },
    {
     "data": {
      "image/png": "[encoded data removed]",
      "text/plain": [
       "<Figure size 432x288 with 1 Axes>"
      ]
     },
     "metadata": {
      "needs_background": "light"
     },
     "output_type": "display_data"
    }
   ],
   "source": [
    "fig = plt.figure()\n",
    "ax = fig.add_subplot(111)\n",
    "\n",
    "df[df['gender']=='Male']['target'].plot(kind='kde', ax=ax)\n",
    "\n",
    "df[df['gender'].isnull()]['target'].plot(kind='kde', ax=ax, color='red')\n",
    "\n",
    "lines, labels = ax.get_legend_handles_labels()\n",
    "labels = ['gender with Male', 'Gender with NA']\n",
    "ax.legend(lines, labels, loc='best')\n",
    "\n",
    "plt.title('Gender')"
   ]
  },
  {
   "cell_type": "code",
   "execution_count": 47,
   "id": "d2293804",
   "metadata": {},
   "outputs": [],
   "source": [
    "temp = df[df['gender']=='Male']['target']"
   ]
  },
  {
   "cell_type": "code",
   "execution_count": 48,
   "id": "38ec12bb",
   "metadata": {},
   "outputs": [],
   "source": [
    "df['gender'].fillna('Male', inplace=True)"
   ]
  },
  {
   "cell_type": "code",
   "execution_count": 49,
   "id": "7645413d",
   "metadata": {
    "scrolled": true
   },
   "outputs": [
    {
     "data": {
      "text/plain": [
       "<AxesSubplot:>"
      ]
     },
     "execution_count": 49,
     "metadata": {},
     "output_type": "execute_result"
    },
    {
     "data": {
      "image/png": "[encoded data removed]",
      "text/plain": [
       "<Figure size 432x288 with 1 Axes>"
      ]
     },
     "metadata": {
      "needs_background": "light"
     },
     "output_type": "display_data"
    }
   ],
   "source": [
    "df['gender'].value_counts().plot(kind='bar')"
   ]
  },
  {
   "cell_type": "code",
   "execution_count": 50,
   "id": "6f3b9b16",
   "metadata": {
    "scrolled": true
   },
   "outputs": [
    {
     "data": {
      "text/plain": [
       "Text(0.5, 1.0, 'Gender')"
      ]
     },
     "execution_count": 50,
     "metadata": {},
     "output_type": "execute_result"
    },
    {
     "data": {
      "image/png": "[encoded data removed]",
      "text/plain": [
       "<Figure size 432x288 with 1 Axes>"
      ]
     },
     "metadata": {
      "needs_background": "light"
     },
     "output_type": "display_data"
    }
   ],
   "source": [
    "fig = plt.figure()\n",
    "ax = fig.add_subplot(111)\n",
    "\n",
    "\n",
    "temp.plot(kind='kde', ax=ax)\n",
    "\n",
    "# distribution of the variable after imputation\n",
    "df[df['gender']=='Male']['target'].plot(kind='kde', ax=ax, color='red')\n",
    "\n",
    "lines, labels = ax.get_legend_handles_labels()\n",
    "labels = ['Original variable', 'Imputed variable']\n",
    "ax.legend(lines, labels, loc='best')\n",
    "\n",
    "# add title\n",
    "plt.title('Gender')"
   ]
  },
  {
   "cell_type": "code",
   "execution_count": 51,
   "id": "0c692f07",
   "metadata": {
    "scrolled": true
   },
   "outputs": [
    {
     "data": {
      "text/plain": [
       "<AxesSubplot:>"
      ]
     },
     "execution_count": 51,
     "metadata": {},
     "output_type": "execute_result"
    },
    {
     "data": {
      "image/png": "[encoded data removed]",
      "text/plain": [
       "<Figure size 432x288 with 1 Axes>"
      ]
     },
     "metadata": {
      "needs_background": "light"
     },
     "output_type": "display_data"
    }
   ],
   "source": [
    "df[\"company_size\"].value_counts().plot(kind=\"bar\")"
   ]
  },
  {
   "cell_type": "code",
   "execution_count": 52,
   "id": "2a59a492",
   "metadata": {},
   "outputs": [
    {
     "data": {
      "text/plain": [
       "0    50-99\n",
       "Name: company_size, dtype: object"
      ]
     },
     "execution_count": 52,
     "metadata": {},
     "output_type": "execute_result"
    }
   ],
   "source": [
    "df[\"company_size\"].mode()"
   ]
  },
  {
   "cell_type": "code",
   "execution_count": 53,
   "id": "7ee84102",
   "metadata": {},
   "outputs": [
    {
     "data": {
      "text/plain": [
       "Text(0.5, 1.0, 'Company Size')"
      ]
     },
     "execution_count": 53,
     "metadata": {},
     "output_type": "execute_result"
    },
    {
     "data": {
      "image/png": "[encoded data removed]",
      "text/plain": [
       "<Figure size 432x288 with 1 Axes>"
      ]
     },
     "metadata": {
      "needs_background": "light"
     },
     "output_type": "display_data"
    }
   ],
   "source": [
    "fig = plt.figure()\n",
    "ax = fig.add_subplot(111)\n",
    "\n",
    "df[df['company_size']=='50-99']['target'].plot(kind='kde', ax=ax)\n",
    "\n",
    "df[df['company_size'].isnull()]['target'].plot(kind='kde', ax=ax, color='red')\n",
    "\n",
    "lines, labels = ax.get_legend_handles_labels()\n",
    "labels = ['Company with 50-99', 'Company with NA']\n",
    "ax.legend(lines, labels, loc='best')\n",
    "\n",
    "plt.title('Company Size')"
   ]
  },
  {
   "cell_type": "code",
   "execution_count": 54,
   "id": "3424151c",
   "metadata": {},
   "outputs": [],
   "source": [
    "temp = df[df['company_size']=='50-99']['target']"
   ]
  },
  {
   "cell_type": "code",
   "execution_count": 55,
   "id": "d12c4445",
   "metadata": {},
   "outputs": [],
   "source": [
    "df['company_size'].fillna('50-99', inplace=True)"
   ]
  },
  {
   "cell_type": "code",
   "execution_count": 56,
   "id": "7fd324f5",
   "metadata": {},
   "outputs": [
    {
     "data": {
      "text/plain": [
       "<AxesSubplot:>"
      ]
     },
     "execution_count": 56,
     "metadata": {},
     "output_type": "execute_result"
    },
    {
     "data": {
      "image/png": "[encoded data removed]",
      "text/plain": [
       "<Figure size 432x288 with 1 Axes>"
      ]
     },
     "metadata": {
      "needs_background": "light"
     },
     "output_type": "display_data"
    }
   ],
   "source": [
    "df[\"company_size\"].value_counts().plot(kind=\"bar\")"
   ]
  },
  {
   "cell_type": "code",
   "execution_count": 57,
   "id": "18f66670",
   "metadata": {
    "scrolled": true
   },
   "outputs": [
    {
     "data": {
      "text/plain": [
       "Text(0.5, 1.0, 'Company Size')"
      ]
     },
     "execution_count": 57,
     "metadata": {},
     "output_type": "execute_result"
    },
    {
     "data": {
      "image/png": "[encoded data removed]",
      "text/plain": [
       "<Figure size 432x288 with 1 Axes>"
      ]
     },
     "metadata": {
      "needs_background": "light"
     },
     "output_type": "display_data"
    }
   ],
   "source": [
    "fig = plt.figure()\n",
    "ax = fig.add_subplot(111)\n",
    "\n",
    "\n",
    "temp.plot(kind='kde', ax=ax)\n",
    "\n",
    "# distribution of the variable after imputation\n",
    "df[df['company_size']=='50-99']['target'].plot(kind='kde', ax=ax, color='red')\n",
    "\n",
    "lines, labels = ax.get_legend_handles_labels()\n",
    "labels = ['Original variable', 'Imputed variable']\n",
    "ax.legend(lines, labels, loc='best')\n",
    "\n",
    "# add title\n",
    "plt.title('Company Size')"
   ]
  },
  {
   "cell_type": "markdown",
   "id": "46d6da1b",
   "metadata": {},
   "source": [
    "Therefore for categorial data where the mode is not very high than the other values and the amount of missing value is high that is greater than 5%, then on filling the missing values with mode leads to change in the distribution and therfore it should not be used for such data."
   ]
  },
  {
   "cell_type": "markdown",
   "id": "eb682885",
   "metadata": {},
   "source": [
    " "
   ]
  },
  {
   "cell_type": "markdown",
   "id": "7dd644e6",
   "metadata": {},
   "source": [
    "### Aribtrary value imputation:\n",
    "Arbitrary value imputation is a method of handling missing data in which the missing values are replaced with a fixed or arbitrary value. For example in categorical data we replace the null values with the word \"Missing\" or for neumerical data we replace the null value with some arbritary number. The main objective of doing this is to make the ML algorithim understand that there was a missing value and therefore it can differentiate between the observations which have data from the one not having data. "
   ]
  },
  {
   "cell_type": "code",
   "execution_count": 58,
   "id": "7b3f0e98",
   "metadata": {},
   "outputs": [
    {
     "data": {
      "text/html": [
       "<div>\n",
       "<style scoped>\n",
       "    .dataframe tbody tr th:only-of-type {\n",
       "        vertical-align: middle;\n",
       "    }\n",
       "\n",
       "    .dataframe tbody tr th {\n",
       "        vertical-align: top;\n",
       "    }\n",
       "\n",
       "    .dataframe thead th {\n",
       "        text-align: right;\n",
       "    }\n",
       "</style>\n",
       "<table border=\"1\" class=\"dataframe\">\n",
       "  <thead>\n",
       "    <tr style=\"text-align: right;\">\n",
       "      <th></th>\n",
       "      <th>enrollee_id</th>\n",
       "      <th>city_development_index</th>\n",
       "      <th>experience</th>\n",
       "      <th>training_hours</th>\n",
       "      <th>target</th>\n",
       "    </tr>\n",
       "  </thead>\n",
       "  <tbody>\n",
       "    <tr>\n",
       "      <th>count</th>\n",
       "      <td>19158.000000</td>\n",
       "      <td>18679.000000</td>\n",
       "      <td>19093.000000</td>\n",
       "      <td>18392.000000</td>\n",
       "      <td>19158.000000</td>\n",
       "    </tr>\n",
       "    <tr>\n",
       "      <th>mean</th>\n",
       "      <td>16875.358179</td>\n",
       "      <td>0.828951</td>\n",
       "      <td>9.928036</td>\n",
       "      <td>65.185787</td>\n",
       "      <td>0.249348</td>\n",
       "    </tr>\n",
       "    <tr>\n",
       "      <th>std</th>\n",
       "      <td>9616.292592</td>\n",
       "      <td>0.123334</td>\n",
       "      <td>6.505268</td>\n",
       "      <td>59.885626</td>\n",
       "      <td>0.432647</td>\n",
       "    </tr>\n",
       "    <tr>\n",
       "      <th>min</th>\n",
       "      <td>1.000000</td>\n",
       "      <td>0.448000</td>\n",
       "      <td>0.000000</td>\n",
       "      <td>1.000000</td>\n",
       "      <td>0.000000</td>\n",
       "    </tr>\n",
       "    <tr>\n",
       "      <th>25%</th>\n",
       "      <td>8554.250000</td>\n",
       "      <td>0.740000</td>\n",
       "      <td>4.000000</td>\n",
       "      <td>23.000000</td>\n",
       "      <td>0.000000</td>\n",
       "    </tr>\n",
       "    <tr>\n",
       "      <th>50%</th>\n",
       "      <td>16982.500000</td>\n",
       "      <td>0.903000</td>\n",
       "      <td>9.000000</td>\n",
       "      <td>47.000000</td>\n",
       "      <td>0.000000</td>\n",
       "    </tr>\n",
       "    <tr>\n",
       "      <th>75%</th>\n",
       "      <td>25169.750000</td>\n",
       "      <td>0.920000</td>\n",
       "      <td>16.000000</td>\n",
       "      <td>88.000000</td>\n",
       "      <td>0.000000</td>\n",
       "    </tr>\n",
       "    <tr>\n",
       "      <th>max</th>\n",
       "      <td>33380.000000</td>\n",
       "      <td>0.949000</td>\n",
       "      <td>20.000000</td>\n",
       "      <td>336.000000</td>\n",
       "      <td>1.000000</td>\n",
       "    </tr>\n",
       "  </tbody>\n",
       "</table>\n",
       "</div>"
      ],
      "text/plain": [
       "        enrollee_id  city_development_index    experience  training_hours  \\\n",
       "count  19158.000000            18679.000000  19093.000000    18392.000000   \n",
       "mean   16875.358179                0.828951      9.928036       65.185787   \n",
       "std     9616.292592                0.123334      6.505268       59.885626   \n",
       "min        1.000000                0.448000      0.000000        1.000000   \n",
       "25%     8554.250000                0.740000      4.000000       23.000000   \n",
       "50%    16982.500000                0.903000      9.000000       47.000000   \n",
       "75%    25169.750000                0.920000     16.000000       88.000000   \n",
       "max    33380.000000                0.949000     20.000000      336.000000   \n",
       "\n",
       "             target  \n",
       "count  19158.000000  \n",
       "mean       0.249348  \n",
       "std        0.432647  \n",
       "min        0.000000  \n",
       "25%        0.000000  \n",
       "50%        0.000000  \n",
       "75%        0.000000  \n",
       "max        1.000000  "
      ]
     },
     "execution_count": 58,
     "metadata": {},
     "output_type": "execute_result"
    }
   ],
   "source": [
    "df.describe()"
   ]
  },
  {
   "cell_type": "code",
   "execution_count": 59,
   "id": "9514d88d",
   "metadata": {},
   "outputs": [],
   "source": [
    "#filling the null value of \"city_development_index\" with 999\n",
    "df['city_development_index_999'] = df['city_development_index'].fillna(999)\n",
    "\n",
    "#filling the null value of \"experience\" with 200\n",
    "df['experience_200'] = df['experience'].fillna(200)"
   ]
  },
  {
   "cell_type": "code",
   "execution_count": 60,
   "id": "2083a394",
   "metadata": {},
   "outputs": [
    {
     "name": "stdout",
     "output_type": "stream",
     "text": [
      "Original city_development_index variable variance:  0.015211374664424446\n",
      "city_development_index Variance after 999 imputation:  24289.67318413606\n",
      "Original experience variable variance:  42.31851676548554\n",
      "experience Variance after 200 imputation:  164.33969989345135\n"
     ]
    }
   ],
   "source": [
    "print('Original city_development_index variable variance: ', df['city_development_index'].var())\n",
    "print('city_development_index Variance after 999 imputation: ', df['city_development_index_999'].var())\n",
    "\n",
    "\n",
    "print('Original experience variable variance: ', df['experience'].var())\n",
    "print('experience Variance after 200 imputation: ', df['experience_200'].var())"
   ]
  },
  {
   "cell_type": "markdown",
   "id": "32e47782",
   "metadata": {},
   "source": [
    "We can see after imputing the null values with arbitary numbers the varience increases drastically."
   ]
  },
  {
   "cell_type": "code",
   "execution_count": 61,
   "id": "0ec37c16",
   "metadata": {},
   "outputs": [
    {
     "data": {
      "text/html": [
       "<div>\n",
       "<style scoped>\n",
       "    .dataframe tbody tr th:only-of-type {\n",
       "        vertical-align: middle;\n",
       "    }\n",
       "\n",
       "    .dataframe tbody tr th {\n",
       "        vertical-align: top;\n",
       "    }\n",
       "\n",
       "    .dataframe thead th {\n",
       "        text-align: right;\n",
       "    }\n",
       "</style>\n",
       "<table border=\"1\" class=\"dataframe\">\n",
       "  <thead>\n",
       "    <tr style=\"text-align: right;\">\n",
       "      <th></th>\n",
       "      <th>enrollee_id</th>\n",
       "      <th>city_development_index</th>\n",
       "      <th>experience</th>\n",
       "      <th>training_hours</th>\n",
       "      <th>target</th>\n",
       "      <th>city_development_index_999</th>\n",
       "      <th>experience_200</th>\n",
       "    </tr>\n",
       "  </thead>\n",
       "  <tbody>\n",
       "    <tr>\n",
       "      <th>enrollee_id</th>\n",
       "      <td>9.247308e+07</td>\n",
       "      <td>-46.899255</td>\n",
       "      <td>-2262.377087</td>\n",
       "      <td>1302.791587</td>\n",
       "      <td>205.837604</td>\n",
       "      <td>-9264.131814</td>\n",
       "      <td>-3038.992294</td>\n",
       "    </tr>\n",
       "    <tr>\n",
       "      <th>city_development_index</th>\n",
       "      <td>-4.689925e+01</td>\n",
       "      <td>0.015211</td>\n",
       "      <td>0.266895</td>\n",
       "      <td>-0.015343</td>\n",
       "      <td>-0.018154</td>\n",
       "      <td>0.015211</td>\n",
       "      <td>0.227061</td>\n",
       "    </tr>\n",
       "    <tr>\n",
       "      <th>experience</th>\n",
       "      <td>-2.262377e+03</td>\n",
       "      <td>0.266895</td>\n",
       "      <td>42.318517</td>\n",
       "      <td>-0.317638</td>\n",
       "      <td>-0.501408</td>\n",
       "      <td>2.839128</td>\n",
       "      <td>42.318517</td>\n",
       "    </tr>\n",
       "    <tr>\n",
       "      <th>training_hours</th>\n",
       "      <td>1.302792e+03</td>\n",
       "      <td>-0.015343</td>\n",
       "      <td>-0.317638</td>\n",
       "      <td>3586.288193</td>\n",
       "      <td>-0.562470</td>\n",
       "      <td>-8.740340</td>\n",
       "      <td>3.470822</td>\n",
       "    </tr>\n",
       "    <tr>\n",
       "      <th>target</th>\n",
       "      <td>2.058376e+02</td>\n",
       "      <td>-0.018154</td>\n",
       "      <td>-0.501408</td>\n",
       "      <td>-0.562470</td>\n",
       "      <td>0.187183</td>\n",
       "      <td>0.011610</td>\n",
       "      <td>-0.432314</td>\n",
       "    </tr>\n",
       "    <tr>\n",
       "      <th>city_development_index_999</th>\n",
       "      <td>-9.264132e+03</td>\n",
       "      <td>0.015211</td>\n",
       "      <td>2.839128</td>\n",
       "      <td>-8.740340</td>\n",
       "      <td>0.011610</td>\n",
       "      <td>24289.673184</td>\n",
       "      <td>6.503726</td>\n",
       "    </tr>\n",
       "    <tr>\n",
       "      <th>experience_200</th>\n",
       "      <td>-3.038992e+03</td>\n",
       "      <td>0.227061</td>\n",
       "      <td>42.318517</td>\n",
       "      <td>3.470822</td>\n",
       "      <td>-0.432314</td>\n",
       "      <td>6.503726</td>\n",
       "      <td>164.339700</td>\n",
       "    </tr>\n",
       "  </tbody>\n",
       "</table>\n",
       "</div>"
      ],
      "text/plain": [
       "                             enrollee_id  city_development_index   experience  \\\n",
       "enrollee_id                 9.247308e+07              -46.899255 -2262.377087   \n",
       "city_development_index     -4.689925e+01                0.015211     0.266895   \n",
       "experience                 -2.262377e+03                0.266895    42.318517   \n",
       "training_hours              1.302792e+03               -0.015343    -0.317638   \n",
       "target                      2.058376e+02               -0.018154    -0.501408   \n",
       "city_development_index_999 -9.264132e+03                0.015211     2.839128   \n",
       "experience_200             -3.038992e+03                0.227061    42.318517   \n",
       "\n",
       "                            training_hours      target  \\\n",
       "enrollee_id                    1302.791587  205.837604   \n",
       "city_development_index           -0.015343   -0.018154   \n",
       "experience                       -0.317638   -0.501408   \n",
       "training_hours                 3586.288193   -0.562470   \n",
       "target                           -0.562470    0.187183   \n",
       "city_development_index_999       -8.740340    0.011610   \n",
       "experience_200                    3.470822   -0.432314   \n",
       "\n",
       "                            city_development_index_999  experience_200  \n",
       "enrollee_id                               -9264.131814    -3038.992294  \n",
       "city_development_index                        0.015211        0.227061  \n",
       "experience                                    2.839128       42.318517  \n",
       "training_hours                               -8.740340        3.470822  \n",
       "target                                        0.011610       -0.432314  \n",
       "city_development_index_999                24289.673184        6.503726  \n",
       "experience_200                                6.503726      164.339700  "
      ]
     },
     "execution_count": 61,
     "metadata": {},
     "output_type": "execute_result"
    }
   ],
   "source": [
    "df.cov()"
   ]
  },
  {
   "cell_type": "code",
   "execution_count": 62,
   "id": "42c1fa4f",
   "metadata": {},
   "outputs": [
    {
     "data": {
      "text/html": [
       "<div>\n",
       "<style scoped>\n",
       "    .dataframe tbody tr th:only-of-type {\n",
       "        vertical-align: middle;\n",
       "    }\n",
       "\n",
       "    .dataframe tbody tr th {\n",
       "        vertical-align: top;\n",
       "    }\n",
       "\n",
       "    .dataframe thead th {\n",
       "        text-align: right;\n",
       "    }\n",
       "</style>\n",
       "<table border=\"1\" class=\"dataframe\">\n",
       "  <thead>\n",
       "    <tr style=\"text-align: right;\">\n",
       "      <th></th>\n",
       "      <th>enrollee_id</th>\n",
       "      <th>city_development_index</th>\n",
       "      <th>experience</th>\n",
       "      <th>training_hours</th>\n",
       "      <th>target</th>\n",
       "      <th>city_development_index_999</th>\n",
       "      <th>experience_200</th>\n",
       "    </tr>\n",
       "  </thead>\n",
       "  <tbody>\n",
       "    <tr>\n",
       "      <th>enrollee_id</th>\n",
       "      <td>1.000000</td>\n",
       "      <td>-0.039557</td>\n",
       "      <td>-0.036147</td>\n",
       "      <td>0.002263</td>\n",
       "      <td>0.049475</td>\n",
       "      <td>-0.006181</td>\n",
       "      <td>-0.024652</td>\n",
       "    </tr>\n",
       "    <tr>\n",
       "      <th>city_development_index</th>\n",
       "      <td>-0.039557</td>\n",
       "      <td>1.000000</td>\n",
       "      <td>0.333050</td>\n",
       "      <td>-0.002083</td>\n",
       "      <td>-0.340239</td>\n",
       "      <td>1.000000</td>\n",
       "      <td>0.143936</td>\n",
       "    </tr>\n",
       "    <tr>\n",
       "      <th>experience</th>\n",
       "      <td>-0.036147</td>\n",
       "      <td>0.333050</td>\n",
       "      <td>1.000000</td>\n",
       "      <td>-0.000815</td>\n",
       "      <td>-0.178238</td>\n",
       "      <td>0.002801</td>\n",
       "      <td>1.000000</td>\n",
       "    </tr>\n",
       "    <tr>\n",
       "      <th>training_hours</th>\n",
       "      <td>0.002263</td>\n",
       "      <td>-0.002083</td>\n",
       "      <td>-0.000815</td>\n",
       "      <td>1.000000</td>\n",
       "      <td>-0.021706</td>\n",
       "      <td>-0.000929</td>\n",
       "      <td>0.004531</td>\n",
       "    </tr>\n",
       "    <tr>\n",
       "      <th>target</th>\n",
       "      <td>0.049475</td>\n",
       "      <td>-0.340239</td>\n",
       "      <td>-0.178238</td>\n",
       "      <td>-0.021706</td>\n",
       "      <td>1.000000</td>\n",
       "      <td>0.000172</td>\n",
       "      <td>-0.077946</td>\n",
       "    </tr>\n",
       "    <tr>\n",
       "      <th>city_development_index_999</th>\n",
       "      <td>-0.006181</td>\n",
       "      <td>1.000000</td>\n",
       "      <td>0.002801</td>\n",
       "      <td>-0.000929</td>\n",
       "      <td>0.000172</td>\n",
       "      <td>1.000000</td>\n",
       "      <td>0.003255</td>\n",
       "    </tr>\n",
       "    <tr>\n",
       "      <th>experience_200</th>\n",
       "      <td>-0.024652</td>\n",
       "      <td>0.143936</td>\n",
       "      <td>1.000000</td>\n",
       "      <td>0.004531</td>\n",
       "      <td>-0.077946</td>\n",
       "      <td>0.003255</td>\n",
       "      <td>1.000000</td>\n",
       "    </tr>\n",
       "  </tbody>\n",
       "</table>\n",
       "</div>"
      ],
      "text/plain": [
       "                            enrollee_id  city_development_index  experience  \\\n",
       "enrollee_id                    1.000000               -0.039557   -0.036147   \n",
       "city_development_index        -0.039557                1.000000    0.333050   \n",
       "experience                    -0.036147                0.333050    1.000000   \n",
       "training_hours                 0.002263               -0.002083   -0.000815   \n",
       "target                         0.049475               -0.340239   -0.178238   \n",
       "city_development_index_999    -0.006181                1.000000    0.002801   \n",
       "experience_200                -0.024652                0.143936    1.000000   \n",
       "\n",
       "                            training_hours    target  \\\n",
       "enrollee_id                       0.002263  0.049475   \n",
       "city_development_index           -0.002083 -0.340239   \n",
       "experience                       -0.000815 -0.178238   \n",
       "training_hours                    1.000000 -0.021706   \n",
       "target                           -0.021706  1.000000   \n",
       "city_development_index_999       -0.000929  0.000172   \n",
       "experience_200                    0.004531 -0.077946   \n",
       "\n",
       "                            city_development_index_999  experience_200  \n",
       "enrollee_id                                  -0.006181       -0.024652  \n",
       "city_development_index                        1.000000        0.143936  \n",
       "experience                                    0.002801        1.000000  \n",
       "training_hours                               -0.000929        0.004531  \n",
       "target                                        0.000172       -0.077946  \n",
       "city_development_index_999                    1.000000        0.003255  \n",
       "experience_200                                0.003255        1.000000  "
      ]
     },
     "execution_count": 62,
     "metadata": {},
     "output_type": "execute_result"
    }
   ],
   "source": [
    "df.corr()"
   ]
  },
  {
   "cell_type": "markdown",
   "id": "dc89c32c",
   "metadata": {},
   "source": [
    "The covarience and correlation also changes quite a bit."
   ]
  },
  {
   "cell_type": "code",
   "execution_count": null,
   "id": "34bfb5f3",
   "metadata": {},
   "outputs": [],
   "source": []
  }
 ],
 "metadata": {
  "kernelspec": {
   "display_name": "Python 3 (ipykernel)",
   "language": "python",
   "name": "python3"
  },
  "language_info": {
   "codemirror_mode": {
    "name": "ipython",
    "version": 3
   },
   "file_extension": ".py",
   "mimetype": "text/x-python",
   "name": "python",
   "nbconvert_exporter": "python",
   "pygments_lexer": "ipython3",
   "version": "3.9.12"
  }
 },
 "nbformat": 4,
 "nbformat_minor": 5
}
